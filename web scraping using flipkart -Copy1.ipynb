{
 "cells": [
  {
   "cell_type": "markdown",
   "id": "7b658e87",
   "metadata": {},
   "source": [
    "# install autoscraper\n",
    "\n",
    " AutoScraper : A Smart, Automatic, Fast and Lightweight Web Scraper for Python.\n",
    "    AutoScraper automatically learns a set of rules required to extract the needed content\n",
    "        from a web page. So the programmer doesn't need to explicitly construct the rules.."
   ]
  },
  {
   "cell_type": "markdown",
   "id": "d23f0daf",
   "metadata": {},
   "source": [
    "!pip install autoscraper"
   ]
  },
  {
   "cell_type": "code",
   "execution_count": 1,
   "id": "5325442a",
   "metadata": {},
   "outputs": [],
   "source": [
    "from autoscraper import AutoScraper"
   ]
  },
  {
   "cell_type": "markdown",
   "id": "0636f82c",
   "metadata": {},
   "source": [
    " url: str, optional\n",
    "            URL of the target web page. You should either pass url or html or both."
   ]
  },
  {
   "cell_type": "code",
   "execution_count": 2,
   "id": "bda52de0",
   "metadata": {},
   "outputs": [],
   "source": [
    "flipkart_url=\"https://www.flipkart.com/search?q=iphone+13&sid\" #this is URL of flipkart\n",
    "\n",
    "wanted_list=[\"₹58,999\",\"APPLE iPhone 13 (Blue, 128 GB)\"]  # the price of headset and name "
   ]
  },
  {
   "cell_type": "markdown",
   "id": "58d3323f",
   "metadata": {},
   "source": [
    "  build() - Learns a set of rules represented as flipkart_url based on the wanted_list,\n",
    "        which can be reused for scraping similar elements from other web pages in the future."
   ]
  },
  {
   "cell_type": "code",
   "execution_count": 3,
   "id": "79a1e6e7",
   "metadata": {},
   "outputs": [
    {
     "name": "stdout",
     "output_type": "stream",
     "text": [
      "['₹58,999', '₹68,999', '₹88,999', '₹1,25,999', '₹1,34,999', '₹71,999', '₹1,44,999', '₹1,39,900', '₹1,55,999', '₹89,999', 'APPLE iPhone 13 (Green, 128 GB)', 'APPLE iPhone 13 (Blue, 128 GB)', 'APPLE iPhone 13 (Starlight, 128 GB)', 'APPLE iPhone 13 (Midnight, 256 GB)', 'APPLE iPhone 13 (Starlight, 256 GB)', 'APPLE iPhone 13 (Starlight, 512 GB)', 'APPLE iPhone 13 ((PRODUCT)RED, 512 GB)', 'APPLE iPhone 13 (Green, 512 GB)', 'APPLE iPhone 13 (Green, 256 GB)', 'APPLE iPhone 13 (Pink, 256 GB)', 'APPLE iPhone 13 (Blue, 256 GB)', 'APPLE iPhone 13 (Pink, 512 GB)', 'APPLE iPhone 13 Pro (Silver, 512 GB)', 'APPLE iPhone 13 Pro Max (Alpine Green, 512 GB)', 'APPLE iPhone 13 Pro Max (Silver, 512 GB)', 'APPLE iPhone 13 Pro Max (Sierra Blue, 512 GB)', 'APPLE iPhone 13 Pro Max (Gold, 512 GB)', 'APPLE iPhone 13 mini (Green, 256 GB)', 'APPLE iPhone 13 Pro (Alpine Green, 1 TB)', 'APPLE iPhone 13 Pro Max (Silver, 256 GB)', 'APPLE iPhone 13 Pro Max (Sierra Blue, 256 GB)', 'APPLE iPhone 13 Pro Max (Graphite, 1 TB)', 'APPLE iPhone 13 mini (Green, 512 GB)', 'APPLE iPhone 13 Pro Max (Silver, 1 TB)']\n"
     ]
    }
   ],
   "source": [
    "scraper=AutoScraper() \n",
    "result=scraper.build(flipkart_url,wanted_list)\n",
    "print(result)"
   ]
  },
  {
   "cell_type": "markdown",
   "id": "b631e3cb",
   "metadata": {},
   "source": [
    "  get_result_similar() - Gets similar results based on the previously learned rules."
   ]
  },
  {
   "cell_type": "code",
   "execution_count": 5,
   "id": "0b9cdf0f",
   "metadata": {},
   "outputs": [
    {
     "data": {
      "text/plain": [
       "{'rule_3dap': ['₹58,999',\n",
       "  '₹58,999',\n",
       "  '₹58,999',\n",
       "  '₹58,999',\n",
       "  '₹58,999',\n",
       "  '₹68,999',\n",
       "  '₹68,999',\n",
       "  '₹88,999',\n",
       "  '₹58,999',\n",
       "  '₹68,999',\n",
       "  '₹88,999',\n",
       "  '₹88,999',\n",
       "  '₹88,999',\n",
       "  '₹88,999',\n",
       "  '₹68,999',\n",
       "  '₹68,999',\n",
       "  '₹88,999',\n",
       "  '₹68,999',\n",
       "  '₹1,25,999',\n",
       "  '₹1,34,999',\n",
       "  '₹71,999',\n",
       "  '₹1,34,999',\n",
       "  '₹1,34,999',\n",
       "  '₹1,34,999'],\n",
       " 'rule_9ff9': ['₹58,999',\n",
       "  '₹58,999',\n",
       "  '₹58,999',\n",
       "  '₹58,999',\n",
       "  '₹58,999',\n",
       "  '₹68,999',\n",
       "  '₹68,999',\n",
       "  '₹88,999',\n",
       "  '₹58,999',\n",
       "  '₹68,999',\n",
       "  '₹88,999',\n",
       "  '₹88,999',\n",
       "  '₹88,999',\n",
       "  '₹88,999',\n",
       "  '₹68,999',\n",
       "  '₹68,999',\n",
       "  '₹88,999',\n",
       "  '₹68,999',\n",
       "  '₹1,25,999',\n",
       "  '₹1,34,999',\n",
       "  '₹71,999',\n",
       "  '₹1,34,999',\n",
       "  '₹1,34,999',\n",
       "  '₹1,34,999'],\n",
       " 'rule_vncg': ['₹58,999',\n",
       "  '₹58,999',\n",
       "  '₹58,999',\n",
       "  '₹58,999',\n",
       "  '₹58,999',\n",
       "  '₹68,999',\n",
       "  '₹68,999',\n",
       "  '₹88,999',\n",
       "  '₹58,999',\n",
       "  '₹68,999',\n",
       "  '₹88,999',\n",
       "  '₹88,999',\n",
       "  '₹88,999',\n",
       "  '₹88,999',\n",
       "  '₹68,999',\n",
       "  '₹68,999',\n",
       "  '₹88,999',\n",
       "  '₹68,999',\n",
       "  '₹1,25,999',\n",
       "  '₹1,34,999',\n",
       "  '₹71,999',\n",
       "  '₹1,34,999',\n",
       "  '₹1,34,999',\n",
       "  '₹1,34,999'],\n",
       " 'rule_1etg': ['APPLE iPhone 13 (Green, 128 GB)',\n",
       "  'APPLE iPhone 13 (Pink, 128 GB)',\n",
       "  'APPLE iPhone 13 (Blue, 128 GB)',\n",
       "  'APPLE iPhone 13 (Midnight, 128 GB)',\n",
       "  'APPLE iPhone 13 (Starlight, 128 GB)',\n",
       "  'APPLE iPhone 13 (Midnight, 256 GB)',\n",
       "  'APPLE iPhone 13 (Starlight, 256 GB)',\n",
       "  'APPLE iPhone 13 (Starlight, 512 GB)',\n",
       "  'APPLE iPhone 13 ((PRODUCT)RED, 128 GB)',\n",
       "  'APPLE iPhone 13 ((PRODUCT)RED, 256 GB)',\n",
       "  'APPLE iPhone 13 ((PRODUCT)RED, 512 GB)',\n",
       "  'APPLE iPhone 13 (Green, 512 GB)',\n",
       "  'APPLE iPhone 13 (Blue, 512 GB)',\n",
       "  'APPLE iPhone 13 (Midnight, 512 GB)',\n",
       "  'APPLE iPhone 13 (Pink, 256 GB)',\n",
       "  'APPLE iPhone 13 (Green, 256 GB)',\n",
       "  'APPLE iPhone 13 (Pink, 512 GB)',\n",
       "  'APPLE iPhone 13 (Blue, 256 GB)',\n",
       "  'APPLE iPhone 13 Pro (Silver, 512 GB)',\n",
       "  'APPLE iPhone 13 Pro Max (Alpine Green, 512 GB)',\n",
       "  'APPLE iPhone 13 mini (Pink, 256 GB)',\n",
       "  'APPLE iPhone 13 Pro Max (Gold, 512 GB)',\n",
       "  'APPLE iPhone 13 Pro Max (Graphite, 512 GB)',\n",
       "  'APPLE iPhone 13 Pro Max (Silver, 512 GB)'],\n",
       " 'rule_n41n': ['APPLE iPhone 13 (Green, 128 GB)',\n",
       "  'APPLE iPhone 13 (Pink, 128 GB)',\n",
       "  'APPLE iPhone 13 (Blue, 128 GB)',\n",
       "  'APPLE iPhone 13 (Midnight, 128 GB)',\n",
       "  'APPLE iPhone 13 (Starlight, 128 GB)',\n",
       "  'APPLE iPhone 13 (Midnight, 256 GB)',\n",
       "  'APPLE iPhone 13 (Starlight, 256 GB)',\n",
       "  'APPLE iPhone 13 (Starlight, 512 GB)',\n",
       "  'APPLE iPhone 13 ((PRODUCT)RED, 128 GB)',\n",
       "  'APPLE iPhone 13 ((PRODUCT)RED, 256 GB)',\n",
       "  'APPLE iPhone 13 ((PRODUCT)RED, 512 GB)',\n",
       "  'APPLE iPhone 13 (Green, 512 GB)',\n",
       "  'APPLE iPhone 13 (Blue, 512 GB)',\n",
       "  'APPLE iPhone 13 (Midnight, 512 GB)',\n",
       "  'APPLE iPhone 13 (Pink, 256 GB)',\n",
       "  'APPLE iPhone 13 (Green, 256 GB)',\n",
       "  'APPLE iPhone 13 (Pink, 512 GB)',\n",
       "  'APPLE iPhone 13 (Blue, 256 GB)',\n",
       "  'APPLE iPhone 13 Pro (Silver, 512 GB)',\n",
       "  'APPLE iPhone 13 Pro Max (Alpine Green, 512 GB)',\n",
       "  'APPLE iPhone 13 mini (Pink, 256 GB)',\n",
       "  'APPLE iPhone 13 Pro Max (Gold, 512 GB)',\n",
       "  'APPLE iPhone 13 Pro Max (Graphite, 512 GB)',\n",
       "  'APPLE iPhone 13 Pro Max (Silver, 512 GB)']}"
      ]
     },
     "execution_count": 5,
     "metadata": {},
     "output_type": "execute_result"
    }
   ],
   "source": [
    "scraper.get_result_similar(flipkart_url,grouped=True)"
   ]
  },
  {
   "cell_type": "markdown",
   "id": "2c872786",
   "metadata": {},
   "source": [
    " get_result_exact() - Gets exact results based on the previously learned rules.\n",
    "    keep_rules() - Keeps only the specified learned rules in the filpkart_URL and removes the others.\n",
    "    save() - Serializes the filpkart_URL as JSON and saves it to disk."
   ]
  },
  {
   "cell_type": "code",
   "execution_count": 7,
   "id": "b1c3e155",
   "metadata": {},
   "outputs": [],
   "source": [
    "scraper.set_rule_aliases({'rule_1etg':'Title','rule_3dap':'Price'})\n",
    "scraper.keep_rules(['rule_1etg','rule_3dap'])\n",
    "scraper.save('flipkart-search')"
   ]
  },
  {
   "cell_type": "markdown",
   "id": "295ced64",
   "metadata": {},
   "source": [
    " group_by_alias: bool, optional, defaults to False\n",
    "            If set to True, the result will be a dictionary with the rule alias as keys\n",
    "                and a list of scraped data per alias as values."
   ]
  },
  {
   "cell_type": "code",
   "execution_count": 39,
   "id": "844a1e68",
   "metadata": {},
   "outputs": [],
   "source": [
    "results=scraper.get_result_similar(\"https://www.flipkart.com/search?q=iphone+13&sid\",group_by_alias=True)"
   ]
  },
  {
   "cell_type": "code",
   "execution_count": 40,
   "id": "9d182058",
   "metadata": {},
   "outputs": [
    {
     "data": {
      "text/plain": [
       "{'Price': ['₹61,999', '₹1,34,999', '₹58,999', '₹1,25,999'],\n",
       " 'Title': ['APPLE iPhone 13 (Blue, 128 GB)',\n",
       "  'APPLE iPhone 13 (Green, 128 GB)',\n",
       "  'APPLE iPhone 13 (Pink, 128 GB)',\n",
       "  'APPLE iPhone 13 (Midnight, 128 GB)',\n",
       "  'APPLE iPhone 13 (Starlight, 128 GB)',\n",
       "  'APPLE iPhone 13 (Midnight, 256 GB)',\n",
       "  'APPLE iPhone 13 (Starlight, 256 GB)',\n",
       "  'APPLE iPhone 13 ((PRODUCT)RED, 128 GB)',\n",
       "  'APPLE iPhone 13 (Starlight, 512 GB)',\n",
       "  'APPLE iPhone 13 (Green, 512 GB)',\n",
       "  'APPLE iPhone 13 ((PRODUCT)RED, 512 GB)',\n",
       "  'APPLE iPhone 13 (Midnight, 512 GB)',\n",
       "  'APPLE iPhone 13 ((PRODUCT)RED, 256 GB)',\n",
       "  'APPLE iPhone 13 (Blue, 512 GB)',\n",
       "  'APPLE iPhone 13 (Green, 256 GB)',\n",
       "  'APPLE iPhone 13 (Pink, 256 GB)',\n",
       "  'APPLE iPhone 13 (Blue, 256 GB)',\n",
       "  'APPLE iPhone 13 (Pink, 512 GB)',\n",
       "  'APPLE iPhone 13 mini (Blue, 128 GB)',\n",
       "  'APPLE iPhone 13 Pro (Silver, 512 GB)',\n",
       "  'APPLE iPhone 13 Pro Max (Graphite, 512 GB)',\n",
       "  'APPLE iPhone 13 Pro Max (Alpine Green, 512 GB)',\n",
       "  'APPLE iPhone 13 mini (Pink, 256 GB)',\n",
       "  'APPLE iPhone 13 Pro Max (Gold, 512 GB)']}"
      ]
     },
     "execution_count": 40,
     "metadata": {},
     "output_type": "execute_result"
    }
   ],
   "source": [
    "results"
   ]
  }
 ],
 "metadata": {
  "kernelspec": {
   "display_name": "Python 3 (ipykernel)",
   "language": "python",
   "name": "python3"
  },
  "language_info": {
   "codemirror_mode": {
    "name": "ipython",
    "version": 3
   },
   "file_extension": ".py",
   "mimetype": "text/x-python",
   "name": "python",
   "nbconvert_exporter": "python",
   "pygments_lexer": "ipython3",
   "version": "3.10.9"
  }
 },
 "nbformat": 4,
 "nbformat_minor": 5
}
